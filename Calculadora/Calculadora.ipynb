{
  "nbformat": 4,
  "nbformat_minor": 0,
  "metadata": {
    "colab": {
      "provenance": []
    },
    "kernelspec": {
      "name": "python3",
      "display_name": "Python 3"
    },
    "language_info": {
      "name": "python"
    }
  },
  "cells": [
    {
      "cell_type": "code",
      "execution_count": null,
      "metadata": {
        "colab": {
          "base_uri": "https://localhost:8080/"
        },
        "id": "IR7za_cPWbl6",
        "outputId": "b1b9778a-ca9c-4b4b-d4b4-a8140a35b5f5"
      },
      "outputs": [
        {
          "output_type": "stream",
          "name": "stdout",
          "text": [
            "Selecione a operação:\n",
            "1. Adição\n",
            "2. Subtração\n",
            "3. Multiplicação\n",
            "4. Divisão\n",
            "Digite a opção (1/2/3/4): 4\n",
            "Digite o primeiro número: 0\n",
            "Digite o segundo número: 0\n",
            "Erro: Divisão por zero!\n"
          ]
        }
      ],
      "source": [
        "print(\"Selecione a operação:\")\n",
        "print(\"1. Adição\")\n",
        "print(\"2. Subtração\")\n",
        "print(\"3. Multiplicação\")\n",
        "print(\"4. Divisão\")\n",
        "\n",
        "escolha = input(\"Digite a opção (1/2/3/4): \")\n",
        "\n",
        "num1 = float(input(\"Digite o primeiro número: \"))\n",
        "num2 = float(input(\"Digite o segundo número: \"))\n",
        "\n",
        "if escolha == '1':\n",
        "    resultado = num1 + num2\n",
        "    print(f\"Resultado: {num1} + {num2} = {resultado}\")\n",
        "elif escolha == '2':\n",
        "    resultado = num1 - num2\n",
        "    print(f\"Resultado: {num1} - {num2} = {resultado}\")\n",
        "elif escolha == '3':\n",
        "    resultado = num1 * num2\n",
        "    print(f\"Resultado: {num1} * {num2} = {resultado}\")\n",
        "elif escolha == '4':\n",
        "    if num2 != 0:\n",
        "        resultado = num1 / num2\n",
        "        print(f\"Resultado: {num1} / {num2} = {resultado}\")\n",
        "    else:\n",
        "        print(\"Erro: Divisão por zero!\")\n",
        "else:\n",
        "    print(\"Opção inválida.\")"
      ]
    },
    {
      "cell_type": "code",
      "source": [
        "2\n"
      ],
      "metadata": {
        "id": "j7GaP1mEWmWb"
      },
      "execution_count": null,
      "outputs": []
    }
  ]
}